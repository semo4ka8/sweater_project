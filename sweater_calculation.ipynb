{
 "cells": [
  {
   "cell_type": "markdown",
   "id": "14f6e1fa",
   "metadata": {},
   "source": [
    "**My measurments, that are used for sample dictionary**"
   ]
  },
  {
   "cell_type": "code",
   "execution_count": null,
   "id": "9f19e7a5",
   "metadata": {},
   "outputs": [],
   "source": [
    "#measure your sample, cm\n",
    "sample_width = 20\n",
    "sample_height = 10\n",
    "sample_w_stiches = 36\n",
    "sample_h_rows = 24"
   ]
  },
  {
   "cell_type": "code",
   "execution_count": 7,
   "id": "f3269390",
   "metadata": {},
   "outputs": [],
   "source": [
    "#sweater measurments, cm\n",
    "neck = 50\n",
    "bust_half = 38\n",
    "under_arm_half = 12.5\n",
    "length_total = 44\n",
    "length_bottom_to_armpit = 25\n",
    "sleave_wrist_to_armpit = 29\n",
    "neckopening_height = 5"
   ]
  },
  {
   "cell_type": "markdown",
   "id": "14c87fcf",
   "metadata": {},
   "source": [
    "**Creating a dictionary with your measurments** "
   ]
  },
  {
   "cell_type": "code",
   "execution_count": 1,
   "id": "e5a9ec8b",
   "metadata": {},
   "outputs": [],
   "source": [
    "#dictionary with your measurments + reglan_stiches to decide\n",
    "your_measurments = {'sample': {'width': 20, 'height': 10, 'w_stiches': 36, 'h_rows': 24, 'reglan_stiches': 2},\\\n",
    "                    'sweater': {'neck': 50, 'bust_half': 38, 'under_arm_half': 12.5, 'length_total': 44,\\\n",
    "                                'length_bottom_to_armpit': 25, 'sleave_wrist_to_armpit': 29, 'sleave_wrist_half': 11, 'neckopening_height': 5}}\n",
    "reglan = int(your_measurments['sample']['reglan_stiches'])"
   ]
  },
  {
   "cell_type": "markdown",
   "id": "785c53a1",
   "metadata": {},
   "source": [
    "**Calculate total desired sweater measurments in stiches and rows**"
   ]
  },
  {
   "cell_type": "code",
   "execution_count": 66,
   "id": "c70164d2",
   "metadata": {},
   "outputs": [],
   "source": [
    "#mesuarments to stiches and rows\n",
    "def measurments_recalculation(measurments):\n",
    "    \n",
    "    result = {}\n",
    "    result['neck'] = round((measurments['sweater']['neck'] * measurments['sample']['w_stiches']) / measurments['sample']['width'])\n",
    "    result['bust'] = round((measurments['sweater']['bust_half'] * 2 * measurments['sample']['w_stiches']) / measurments['sample']['width'])\n",
    "    result['under_arm'] = round((measurments['sweater']['under_arm_half'] * 2 * measurments['sample']['w_stiches']) / measurments['sample']['width'])\n",
    "    result['length_total'] = round((measurments['sweater']['length_total'] * measurments['sample']['h_rows']) / measurments['sample']['height'])\n",
    "    result['length_bottom_to_armpit'] = round((measurments['sweater']['length_bottom_to_armpit'] * measurments['sample']['h_rows']) / measurments['sample']['height'])\n",
    "    result['length_top_to_armpit'] = round(((measurments['sweater']['length_total'] - measurments['sweater']['length_bottom_to_armpit']) * measurments['sample']['h_rows']) / measurments['sample']['height'])\n",
    "    result['sleave_wrist_to_armpit'] = round((measurments['sweater']['sleave_wrist_to_armpit'] * measurments['sample']['h_rows']) / measurments['sample']['height'])\n",
    "    result['sleave_wrist'] = round((measurments['sweater']['sleave_wrist_half']* 2 * measurments['sample']['w_stiches']) / measurments['sample']['width'])\n",
    "    result['reglan_stiches_total'] = measurments['sample']['reglan_stiches'] * 4\n",
    "    result['neckopening_height'] = round((measurments['sweater']['neckopening_height'] * measurments['sample']['h_rows']) / measurments['sample']['height'])\n",
    "                                          \n",
    "    return result\n",
    "\n",
    "row_stich_measurments = measurments_recalculation(your_measurments)"
   ]
  },
  {
   "cell_type": "markdown",
   "id": "b0c21b00",
   "metadata": {},
   "source": [
    "**Finding marker points**"
   ]
  },
  {
   "cell_type": "code",
   "execution_count": 65,
   "id": "92183fee",
   "metadata": {},
   "outputs": [],
   "source": [
    "def marker_points(r_s_measur):\n",
    "    markers = []\n",
    "    \n",
    "    sleave_part = 1\n",
    "    front_part = round(((r_s_measur['bust'] / 2) / r_s_measur['under_arm']), 2)\n",
    "    total_parts = 2 * (sleave_part + front_part)\n",
    "    one_part = round((r_s_measur['neck'] - r_s_measur['reglan_stiches_total']) / total_parts)\n",
    "    sleave = one_part + reglan\n",
    "    front_back = round((one_part * front_part) + reglan)\n",
    "    opening_give = round(front_back / 4.5)\n",
    "    front = front_back + opening_give\n",
    "    back = front_back - opening_give\n",
    "    \n",
    "    marker_1 = round(front / 2)\n",
    "    til_end = r_s_measur['neck'] - (marker_1 + 2 * sleave + back)\n",
    "    if (marker_1 + til_end) % 2 == 0:\n",
    "        markers.append(int((marker_1 + til_end) / 2))\n",
    "    \n",
    "    markers.append(markers[0] + sleave)\n",
    "    markers.append(markers[1] + back)\n",
    "    markers.append(markers[2] + sleave)\n",
    "    markers.append(r_s_measur['neck'] - markers[3])\n",
    "    \n",
    "    return markers, sleave, back\n",
    "\n",
    "markers, sleave, back = marker_points(row_stich_measurments)"
   ]
  },
  {
   "cell_type": "markdown",
   "id": "b7f294f2",
   "metadata": {},
   "source": [
    "**Calculating how many turnarounds in neck part we will need** - do we need turns on the sleave amount?"
   ]
  },
  {
   "cell_type": "code",
   "execution_count": 64,
   "id": "a2e51733",
   "metadata": {},
   "outputs": [],
   "source": [
    "def turnarounds(r_s_measur):\n",
    "    total_turns = r_s_measur['neckopening_height'] / 2\n",
    "    sleave_turns = round(r_s_measur['neckopening_height'] / 3)\n",
    "    turn_freq_stiches = round((sleave - r_s_measur['reglan_stiches_total'] / 4)  / (sleave_turns + 1))  \n",
    "          \n",
    "    return total_turns, sleave_turns, turn_freq_stiches\n",
    "\n",
    "total_turns, sleave_turns, turn_freq_stiches = turnarounds(row_stich_measurments)"
   ]
  },
  {
   "cell_type": "markdown",
   "id": "42419489",
   "metadata": {},
   "source": [
    "**Creating a function for the neck part**"
   ]
  },
  {
   "cell_type": "code",
   "execution_count": 72,
   "id": "78b2b8e5",
   "metadata": {},
   "outputs": [],
   "source": [
    "def neck(markers, sleave_part, back_part, your_measurments, total_turns, turn_freq_stiches):\n",
    "    \n",
    "    reg_line = your_measurments['sample']['reglan_stiches']\n",
    "    front_half = int(markers[0] - (reg_line / 2)) \n",
    "    sleave = int(sleave_part - reg_line)\n",
    "    back = int(back_part - reg_line)\n",
    "    yarn_over = 1\n",
    "    increase = turn_freq_stiches\n",
    "    row_end = increase\n",
    "    turns_count = total_turns\n",
    "    marker_distance = sleave\n",
    "    end_distance = front_half\n",
    "    \n",
    "    for row in range(1, int(total_turns)*2+1):\n",
    "        if increase < marker_distance:\n",
    "            if row == 1:\n",
    "                print(f\"[Row {row}]: knit front half {front_half} + yarn over {yarn_over} + reglan line {reg_line} + yarn over {yarn_over} + sleave {sleave} + yarn over {yarn_over} + reglan line {reg_line} + yarn over {yarn_over} + back {back} +  yarn over {yarn_over} + reglan line {reg_line} + yarn over {yarn_over} + knit {row_end} -> Turn\")\n",
    "                row_end += 1\n",
    "                back += 2\n",
    "                turns_count -= 1\n",
    "                marker_distance -= increase \n",
    "            elif row % 2 == 0:\n",
    "                print(f\"[Row {row}]: knit {row_end} + reglan line {reg_line} + back {back} + reglan line {reg_line} + knit {row_end} -> Turn\")\n",
    "            else:\n",
    "                print(f\"[Row {row}]: knit {row_end} + yarn over {yarn_over} + reglan line {reg_line} + yarn over {yarn_over} + back {back} + yarn over {yarn_over} + reglan line {reg_line} + yarn over {yarn_over} + knit {row_end + increase} -> Turn\")\n",
    "                row_end += increase + 1 \n",
    "                back += 2\n",
    "                turns_count -= 1\n",
    "                marker_distance -= increase \n",
    "                increase += 1\n",
    "                \n",
    "        elif increase > marker_distance and marker_distance > 0:\n",
    "            if row % 2 == 0:\n",
    "                print(f\"[Row {row}]: knit {row_end} + reglan line {reg_line} + back {back} + reglan line {reg_line} + knit {row_end} -> Turn\")\n",
    "            else:\n",
    "                print(f\"[Row {row}]: knit {row_end} + yarn over {yarn_over} + reglan line {reg_line} + yarn over {yarn_over} + back {back} + yarn over {yarn_over} + reglan line {reg_line} + yarn over {yarn_over} + knit sleave {row_end + marker_distance} + yarn over {yarn_over} + reglan line {reg_line} + yarn over {yarn_over} + knit {increase - marker_distance} -> Turn\")\n",
    "                sleave = row_end + marker_distance + reg_line\n",
    "                row_end = increase - marker_distance + 1 \n",
    "                back += 2\n",
    "                turns_count -= 1\n",
    "                marker_distance -= increase \n",
    "                increase += 1\n",
    "                end_distance -= row_end\n",
    "                if marker_distance < 0:\n",
    "                    marker_distance == 0\n",
    "                    \n",
    "        else:\n",
    "            if row % 2 == 0:\n",
    "                print(f\"[Row {row}]: knit {row_end} + reglan line {reg_line} + sleave {sleave} + reglan line {reg_line} + back {back} + reglan line {reg_line} + sleave {sleave} + reglan line {reg_line} + knit {row_end} -> Turn\")\n",
    "            else:\n",
    "                print(f\"[Row {row}]: knit {row_end} + yarn over {yarn_over} + reglan line {reg_line} + yarn over {yarn_over} + sleave {sleave} + yarn over {yarn_over} + reglan line {reg_line} + yarn over {yarn_over} + back {back} + yarn over {yarn_over} + reglan line {reg_line} + yarn over {yarn_over} + sleave {sleave} + yarn over {yarn_over} + reglan line {reg_line} + yarn over {yarn_over} + knit {row_end + increase} -> Turn\")\n",
    "                row_end += increase + 1 \n",
    "                back += 2\n",
    "                sleave += 2\n",
    "                turns_count -= 1\n",
    "                end_distance -= increase\n",
    "                increase += 1\n",
    "                \n",
    "    last_neck_row = int(total_turns)*2+1\n",
    "    total_stiches_after_neck = 2*row_end + 2*end_distance + 2*sleave + back + 4*reg_line \n",
    "    \n",
    "    print(f\"[Row {last_neck_row}]: knit {row_end} + reglan line {reg_line} + sleave {sleave} + reglan line {reg_line} + back {back} + reglan line {reg_line} + sleave {sleave} + reglan line {reg_line} + knit {row_end + end_distance}\")\n",
    "    print('_______________________________________________________________________________') \n",
    "    print(\"You should reach end of stitches line.\\nNow your sweater will be worked in the circle! In the next Row attach last stitch to the first stitch!\")\n",
    "    print(f'You have total of {total_stiches_after_neck} stiches at [Row {last_neck_row}].')\n",
    "    \n",
    "    return total_stiches_after_neck, last_neck_row, sleave"
   ]
  },
  {
   "cell_type": "code",
   "execution_count": 40,
   "id": "ef912b53",
   "metadata": {},
   "outputs": [],
   "source": [
    "def regular_increase(total_stiches_after_neck, last_neck_row, row_stich_measurments):\n",
    "    total_stiches_under_arm = row_stich_measurments['bust'] + 2 * row_stich_measurments['under_arm']\n",
    "    rows_count = row_stich_measurments['length_top_to_armpit'] - last_neck_row\n",
    "    increase_count = round((total_stiches_under_arm - total_stiches_after_neck) / 8) \n",
    "    row_list_inc = list(range(last_neck_row + 1, row_stich_measurments['length_top_to_armpit'] + 1))\n",
    "        \n",
    "    return row_list_inc, increase_count \n",
    "    \n",
    "row_list_inc, increase_count = regular_increase(total_stiches_after_neck, last_neck_row, row_stich_measurments)"
   ]
  },
  {
   "cell_type": "markdown",
   "id": "a0588502",
   "metadata": {},
   "source": [
    "**Splitting a list into N parts of approximately equal length**"
   ]
  },
  {
   "cell_type": "code",
   "execution_count": 41,
   "id": "544bb8fb",
   "metadata": {},
   "outputs": [],
   "source": [
    "def chunk_it(seq, num):\n",
    "    avg = len(seq) / float(num)\n",
    "    out = []\n",
    "    last = 0.0\n",
    "\n",
    "    while last < len(seq):\n",
    "        out.append(seq[int(last):int(last + avg)])\n",
    "        last += avg\n",
    "\n",
    "    return out"
   ]
  },
  {
   "cell_type": "code",
   "execution_count": 62,
   "id": "8c2406b4",
   "metadata": {},
   "outputs": [],
   "source": [
    "increase_row_number = []\n",
    "for chunk in chunk_it(row_list_inc, increase_count):\n",
    "    increase_row_number.append(chunk[0])\n",
    "\n",
    "total_stiches_before_bust = total_stiches_after_neck + increase_count * 8"
   ]
  },
  {
   "cell_type": "code",
   "execution_count": 61,
   "id": "f0ad3e40",
   "metadata": {},
   "outputs": [],
   "source": [
    "sleave_disconnected = sleave_at_neck + 2 * increase_count + reglan\n",
    "total_stiches_bust = total_stiches_before_bust - 2 * (sleave_disconnected) + 2 * 8\n",
    "first_row_bust = row_list_inc[-1]+1\n",
    "rows_until_bottom = first_row_bust + row_stich_measurments['length_bottom_to_armpit']"
   ]
  },
  {
   "cell_type": "markdown",
   "id": "35f40794",
   "metadata": {},
   "source": [
    "**Arm decrease**"
   ]
  },
  {
   "cell_type": "code",
   "execution_count": 11,
   "id": "9a03c597",
   "metadata": {},
   "outputs": [],
   "source": [
    "def regular_decrease(total_stiches_after, last_row, row_stich_measurments):\n",
    "    rows_count = last_row + row_stich_measurments['sleave_wrist_to_armpit']\n",
    "    decrease_count = round((total_stiches_after - row_stich_measurments['sleave_wrist']) / 2)\n",
    "    row_list_dec = list(range(last_row + 1, rows_count + 1))\n",
    "    \n",
    "    return row_list_dec, decrease_count \n",
    "\n",
    "row_list_dec, decrease_count = regular_decrease(sleave_disconnected, first_row_bust, row_stich_measurments)"
   ]
  },
  {
   "cell_type": "code",
   "execution_count": 60,
   "id": "fcb8ba60",
   "metadata": {},
   "outputs": [],
   "source": [
    "decrease_row_number = []\n",
    "for chunk in chunk_it(row_list_dec, decrease_count):\n",
    "    decrease_row_number.append(chunk[0])\n",
    "\n",
    "total_stiches_wrist = sleave_disconnected - decrease_count * 2"
   ]
  },
  {
   "cell_type": "markdown",
   "id": "10c28a7d",
   "metadata": {},
   "source": [
    "**Printing results**"
   ]
  },
  {
   "cell_type": "code",
   "execution_count": 74,
   "id": "ba6b294a",
   "metadata": {},
   "outputs": [
    {
     "name": "stdout",
     "output_type": "stream",
     "text": [
      "Start by casting on 90 stitches.\n",
      "Place markers after stitch: [17, 35, 55, 73]. They will be in the middle of your reglan lines.\n",
      "____________________________________________________\n",
      "____________________________________________________\n",
      "Working on the neck opening:\n",
      "________________________________________________________\n",
      "[Row 1]: knit front half 16 + yarn over 1 + reglan line 2 + yarn over 1 + sleave 16 + yarn over 1 + reglan line 2 + yarn over 1 + back 18 +  yarn over 1 + reglan line 2 + yarn over 1 + knit 3 -> Turn\n",
      "[Row 2]: knit 4 + reglan line 2 + back 20 + reglan line 2 + knit 4 -> Turn\n",
      "[Row 3]: knit 4 + yarn over 1 + reglan line 2 + yarn over 1 + back 20 + yarn over 1 + reglan line 2 + yarn over 1 + knit 7 -> Turn\n",
      "[Row 4]: knit 8 + reglan line 2 + back 22 + reglan line 2 + knit 8 -> Turn\n",
      "[Row 5]: knit 8 + yarn over 1 + reglan line 2 + yarn over 1 + back 22 + yarn over 1 + reglan line 2 + yarn over 1 + knit 12 -> Turn\n",
      "[Row 6]: knit 13 + reglan line 2 + back 24 + reglan line 2 + knit 13 -> Turn\n",
      "[Row 7]: knit 13 + yarn over 1 + reglan line 2 + yarn over 1 + back 24 + yarn over 1 + reglan line 2 + yarn over 1 + knit 18 -> Turn\n",
      "[Row 8]: knit 19 + reglan line 2 + back 26 + reglan line 2 + knit 19 -> Turn\n",
      "[Row 9]: knit 19 + yarn over 1 + reglan line 2 + yarn over 1 + back 26 + yarn over 1 + reglan line 2 + yarn over 1 + knit sleave 20 + yarn over 1 + reglan line 2 + yarn over 1 + knit 5 -> Turn\n",
      "[Row 10]: knit 6 + reglan line 2 + sleave 22 + reglan line 2 + back 28 + reglan line 2 + sleave 22 + reglan line 2 + knit 6 -> Turn\n",
      "[Row 11]: knit 6 + yarn over 1 + reglan line 2 + yarn over 1 + sleave 22 + yarn over 1 + reglan line 2 + yarn over 1 + back 28 + yarn over 1 + reglan line 2 + yarn over 1 + sleave 22 + yarn over 1 + reglan line 2 + yarn over 1 + knit 13 -> Turn\n",
      "[Row 12]: knit 14 + reglan line 2 + sleave 24 + reglan line 2 + back 30 + reglan line 2 + sleave 24 + reglan line 2 + knit 14 -> Turn\n",
      "[Row 13]: knit 14 + reglan line 2 + sleave 24 + reglan line 2 + back 30 + reglan line 2 + sleave 24 + reglan line 2 + knit 17\n",
      "_______________________________________________________________________________\n",
      "You should reach end of stitches line.\n",
      "Now your sweater will be worked in the circle! In the next Row attach last stitch to the first stitch!\n",
      "You have total of 120 stiches at [Row 13].\n",
      "____________________________________________________\n",
      "____________________________________________________\n",
      "Working from the neck to armpits:\n",
      "________________________________________________________\n",
      "Knit in the circle until [Row 46] (included) and increase 1 stich around every reglan line in Row: [14, 16, 19, 21, 24, 26, 29, 31, 34, 36, 39, 41, 44], (total increase in 1 circle = 8 stiches).\n",
      "You have total of 224 stitches at [Row 46].\n",
      "____________________________________________________\n",
      "____________________________________________________\n",
      "Disconnecting arms from bust:\n",
      "________________________________________________________\n",
      "[Row 47]: Knit until Marker-1, set main yarn aside.\n",
      "Close 52 stitches of the arm using differen yarn color(including 1 reglan stiches at the beginning and end of the sleave).\n",
      "Return to main yarn.\n",
      "Turn it arround the needle loosely to make loops for future 8 stitches.\n",
      "Knit back part until Marker-3, set main yarn aside.\n",
      "Close 52 stitches of the arm using differen yarn color(including 1 reglan stiches at the beginning and end of the sleave).\n",
      "Return to main yarn.\n",
      "Turn it arround the needle loosely to make loops for future 8 stitches.\n",
      "Knit until the final Marker.\n",
      "________________________________________________________\n",
      "You have total of 136 stitches at [Row 47].\n",
      "________________________________________________________\n",
      "________________________________________________________\n",
      "Working down from the bust:\n",
      "________________________________________________________\n",
      "[Row 48]: Knit in the circle, knit 8 stitches under armpit from the yarn, that you turned around the needle in previous row, continue knitting and repeat under next armpit, knit until end of the row.\n",
      "________________________________________________________\n",
      "Knit bust part in the circle without increases until [Row 107].\n",
      "You can make last 4-8 rows ribbed with 1x1 rib or 2x2 rib.\n",
      "________________________________________________________\n",
      "________________________________________________________\n",
      "Working down the sleave (repeat for each sleave):\n",
      "________________________________________________________\n",
      "Knit the sleave in the circle until [Row 117] (included) and decrease 1 stich around every reglan line in Row: [48, 59, 71, 83, 94, 106], (total decrease in 1 circle = 2 stiches).\n",
      "You have total of 40 stitches at [Row 117].\n",
      "You can make last 4-8 rows ribbed with 1x1 rib or 2x2 rib.\n"
     ]
    }
   ],
   "source": [
    "print(f\"Start by casting on {row_stich_measurments['neck']} stitches.\\nPlace markers after stitch: {markers[0:-1]}. They will be in the middle of your reglan lines.\")\n",
    "print('____________________________________________________\\n____________________________________________________')\n",
    "print('Working on the neck opening:\\n________________________________________________________')\n",
    "total_stiches_after_neck, last_neck_row, sleave_at_neck = neck(markers, sleave, back, your_measurments, total_turns, turn_freq_stiches)\n",
    "print('____________________________________________________\\n____________________________________________________')\n",
    "print('Working from the neck to armpits:\\n________________________________________________________')\n",
    "print(f'Knit in the circle until [Row {row_list_inc[-1]}] (included) and increase 1 stich around every reglan line in Row: {increase_row_number}, (total increase in 1 circle = 8 stiches).')\n",
    "print(f'You have total of {total_stiches_before_bust} stitches at [Row {row_list_inc[-1]}].')\n",
    "print('____________________________________________________\\n____________________________________________________')\n",
    "print('Disconnecting arms from bust:\\n________________________________________________________')\n",
    "print(f'[Row {row_list_inc[-1] + 1}]: Knit until Marker-1, set main yarn aside.\\nClose {sleave_disconnected} stitches of the arm using differen yarn color(including {int(reglan / 2)} reglan stiches at the beginning and end of the sleave).\\nReturn to main yarn.\\nTurn it arround the needle loosely to make loops for future 8 stitches.\\nKnit back part until Marker-3, set main yarn aside.\\nClose {sleave_disconnected} stitches of the arm using differen yarn color(including {int(reglan / 2)} reglan stiches at the beginning and end of the sleave).\\nReturn to main yarn.\\nTurn it arround the needle loosely to make loops for future 8 stitches.\\nKnit until the final Marker.')\n",
    "print('________________________________________________________')\n",
    "print(f'You have total of {total_stiches_bust} stitches at [Row {first_row_bust}].')\n",
    "print('________________________________________________________\\n________________________________________________________')\n",
    "print('Working down from the bust:\\n________________________________________________________')\n",
    "print(f'[Row {first_row_bust + 1}]: Knit in the circle, knit 8 stitches under armpit from the yarn, that you turned around the needle in previous row, continue knitting and repeat under next armpit, knit until end of the row.')\n",
    "print('________________________________________________________')\n",
    "print(f'Knit bust part in the circle without increases until [Row {rows_until_bottom}].\\nYou can make last 4-8 rows ribbed with 1x1 rib or 2x2 rib.')\n",
    "print('________________________________________________________\\n________________________________________________________')\n",
    "print('Working down the sleave (repeat for each sleave):\\n________________________________________________________')\n",
    "print(f'Knit the sleave in the circle until [Row {row_list_dec[-1]}] (included) and decrease 1 stich around every reglan line in Row: {decrease_row_number}, (total decrease in 1 circle = 2 stiches).')\n",
    "print(f'You have total of {total_stiches_wrist} stitches at [Row {row_list_dec[-1]}].\\nYou can make last 4-8 rows ribbed with 1x1 rib or 2x2 rib.')"
   ]
  }
 ],
 "metadata": {
  "kernelspec": {
   "display_name": "Python 3 (ipykernel)",
   "language": "python",
   "name": "python3"
  },
  "language_info": {
   "codemirror_mode": {
    "name": "ipython",
    "version": 3
   },
   "file_extension": ".py",
   "mimetype": "text/x-python",
   "name": "python",
   "nbconvert_exporter": "python",
   "pygments_lexer": "ipython3",
   "version": "3.9.7"
  }
 },
 "nbformat": 4,
 "nbformat_minor": 5
}
