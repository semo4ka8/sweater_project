{
 "cells": [
  {
   "cell_type": "code",
   "execution_count": 1,
   "id": "42a00d85",
   "metadata": {},
   "outputs": [],
   "source": [
    "#measure your sample, cm\n",
    "sample_width = 20\n",
    "sample_height = 10\n",
    "sample_w_stiches = 36\n",
    "sample_h_rows = 24\n"
   ]
  },
  {
   "cell_type": "code",
   "execution_count": 7,
   "id": "f3269390",
   "metadata": {},
   "outputs": [],
   "source": [
    "#sweater measurments, cm\n",
    "neck = 50\n",
    "bust_half = 38\n",
    "under_arm_half = 12.5\n",
    "length_total = 44\n",
    "length_bottom_to_armpit = 25\n",
    "sleave_wrist_to_armpit = 29\n",
    "neckopening_height = 5"
   ]
  },
  {
   "cell_type": "code",
   "execution_count": 2,
   "id": "e5a9ec8b",
   "metadata": {},
   "outputs": [],
   "source": [
    "#dictionary with your measurments + reglan_stiches to decide\n",
    "your_measurments = {'sample': {'width': 20, 'height': 10, 'w_stiches': 36, 'h_rows': 24, 'reglan_stiches': 2},\\\n",
    "                    'sweater': {'neck': 50, 'bust_half': 38, 'under_arm_half': 12.5, 'length_total': 44,\\\n",
    "                                'length_bottom_to_armpit': 25, 'sleave_wrist_to_armpit': 29, 'neckopening_height': 5}}"
   ]
  },
  {
   "cell_type": "code",
   "execution_count": 25,
   "id": "c70164d2",
   "metadata": {},
   "outputs": [
    {
     "name": "stdout",
     "output_type": "stream",
     "text": [
      "{'neck': 90, 'bust': 137, 'under_arm': 45, 'length_total': 106, 'length_bottom_to_armpit': 60, 'length_top_to_armpit': 46, 'sleave_wrist_to_armpit': 70, 'reglan_stiches_total': 8, 'neckopening_height': 12}\n"
     ]
    }
   ],
   "source": [
    "#mesuarments to stiches and rows\n",
    "def measurments_recalculation(measurments):\n",
    "    \n",
    "    result = {}\n",
    "    result['neck'] = round((measurments['sweater']['neck'] * measurments['sample']['w_stiches']) / measurments['sample']['width'])\n",
    "    result['bust'] = round((measurments['sweater']['bust_half'] * 2 * measurments['sample']['w_stiches']) / measurments['sample']['width'])\n",
    "    result['under_arm'] = round((measurments['sweater']['under_arm_half'] * 2 * measurments['sample']['w_stiches']) / measurments['sample']['width'])\n",
    "    result['length_total'] = round((measurments['sweater']['length_total'] * measurments['sample']['h_rows']) / measurments['sample']['height'])\n",
    "    result['length_bottom_to_armpit'] = round((measurments['sweater']['length_bottom_to_armpit'] * measurments['sample']['h_rows']) / measurments['sample']['height'])\n",
    "    result['length_top_to_armpit'] = round(((measurments['sweater']['length_total'] - measurments['sweater']['length_bottom_to_armpit']) * measurments['sample']['h_rows']) / measurments['sample']['height'])\n",
    "    result['sleave_wrist_to_armpit'] = round((measurments['sweater']['sleave_wrist_to_armpit'] * measurments['sample']['h_rows']) / measurments['sample']['height'])\n",
    "    result['reglan_stiches_total'] = measurments['sample']['reglan_stiches'] * 4\n",
    "    result['neckopening_height'] = round((measurments['sweater']['neckopening_height'] * measurments['sample']['h_rows']) / measurments['sample']['height'])\n",
    "                                          \n",
    "    return result\n",
    "\n",
    "row_stich_measurments = measurments_recalculation(your_measurments)\n",
    "print(row_stich_measurments)"
   ]
  },
  {
   "cell_type": "code",
   "execution_count": 4,
   "id": "23168b5f",
   "metadata": {},
   "outputs": [
    {
     "name": "stdout",
     "output_type": "stream",
     "text": [
      "{'neck': 90, 'bust': 137, 'under_arm': 45, 'length_total': 106, 'length_bottom_to_armpit': 60, 'length_top_to_armpit': 46, 'sleave_wrist_to_armpit': 70, 'reglan_stiches_total': 8, 'neckopening_height': 12}\n"
     ]
    }
   ],
   "source": []
  },
  {
   "cell_type": "code",
   "execution_count": 46,
   "id": "92183fee",
   "metadata": {},
   "outputs": [
    {
     "name": "stdout",
     "output_type": "stream",
     "text": [
      "Markers:  [17.0, 35.0, 55.0, 73.0, 17.0]\n"
     ]
    }
   ],
   "source": [
    "#calculating increases, for knitting from the top\n",
    "\n",
    "#deviding to parts\n",
    "\n",
    "def marker_points(r_s_measur):\n",
    "    markers = []\n",
    "    \n",
    "    sleave_part = 1\n",
    "    front_part = round(((r_s_measur['bust'] / 2) / r_s_measur['under_arm']), 2)\n",
    "    total_parts = 2 * (sleave_part + front_part)\n",
    "    one_part = round((r_s_measur['neck'] - r_s_measur['reglan_stiches_total']) / total_parts)\n",
    "    sleave = one_part + (r_s_measur['reglan_stiches_total'] / 4)\n",
    "    front_back = round((one_part * front_part) + (r_s_measur['reglan_stiches_total'] / 4))\n",
    "    opening_give = round(front_back / 4.5)\n",
    "    front = front_back + opening_give\n",
    "    back = front_back - opening_give\n",
    "    \n",
    "    marker_1 = round(front / 2)\n",
    "    til_end = r_s_measur['neck'] - (marker_1 + 2 * sleave + back)\n",
    "    if (marker_1 + til_end) % 2 == 0:\n",
    "        markers.append((marker_1 + til_end) / 2)\n",
    "    \n",
    "    markers.append(markers[0] + sleave)\n",
    "    markers.append(markers[1] + back)\n",
    "    markers.append(markers[2] + sleave)\n",
    "    markers.append(r_s_measur['neck'] - markers[3])\n",
    "    \n",
    "    return markers, sleave\n",
    "\n",
    "markers, sleave = marker_points(row_stich_measurments)\n",
    "\n",
    "print('Markers: ' ,markers)\n",
    "\n",
    "    #befor that calculate neckopening\n",
    "    #armpits_total = r_s_measur['bust'] + (2 * r_s_measur['under_arm']) #227\n",
    "    #one_row_icrease_to_armpit = (armpits_total - r_s_measur['neck'] - r_s_measur['reglan_stiches_total']) / r_s_measur['length_top_to_armpit'] #2.8"
   ]
  },
  {
   "cell_type": "code",
   "execution_count": 47,
   "id": "a2e51733",
   "metadata": {},
   "outputs": [
    {
     "name": "stdout",
     "output_type": "stream",
     "text": [
      "Turns on the sleave:  4\n",
      "Turn frequency in stiches:  3\n"
     ]
    }
   ],
   "source": [
    "def turnarounds(r_s_measur):\n",
    "    total_turns = r_s_measur['neckopening_height']\n",
    "    sleave_turns = round(r_s_measur['neckopening_height'] / 3)\n",
    "    turn_freq_stiches = round((sleave - r_s_measur['reglan_stiches_total'] / 4)  / (sleave_turns + 1))  \n",
    "          \n",
    "    return total_turns, sleave_turns, turn_freq_stiches\n",
    "\n",
    "total_turns, sleave_turns, turn_freq_stiches = turnarounds(row_stich_measurments)\n",
    "\n",
    "print('Turns on the sleave: ', sleave_turns)\n",
    "print('Turn frequency in stiches: ', turn_freq_stiches)"
   ]
  },
  {
   "cell_type": "code",
   "execution_count": 50,
   "id": "ef912b53",
   "metadata": {},
   "outputs": [
    {
     "ename": "SyntaxError",
     "evalue": "invalid syntax (Temp/ipykernel_22012/1215840680.py, line 13)",
     "output_type": "error",
     "traceback": [
      "\u001b[1;36m  File \u001b[1;32m\"C:\\Users\\Owner\\AppData\\Local\\Temp/ipykernel_22012/1215840680.py\"\u001b[1;36m, line \u001b[1;32m13\u001b[0m\n\u001b[1;33m    turns_sleave_left -= 1\u001b[0m\n\u001b[1;37m    ^\u001b[0m\n\u001b[1;31mSyntaxError\u001b[0m\u001b[1;31m:\u001b[0m invalid syntax\n"
     ]
    }
   ],
   "source": [
    "def neckopening(marker_list, total_turns, turns_sleave, turn_freq):\n",
    "    turns_front_left = total_turns - turns_sleave * 2\n",
    "    turns_sleave_left = turns_sleave * 2\n",
    "    part_1 = marker_list[0] - 1\n",
    "    part_2 = marker_list[1] - 2 - marker_list[0]\n",
    "    part_3 = marker_list[2] - 2 - marker_list[1]\n",
    "    part_4 = marker_list[3] - 2 - marker_list[2]\n",
    "    \n",
    "    print('Row 1: knit {part_1} + yarn over + knit 1 > marker <\\\n",
    "        knit 1 + yarn over + knit {part_2} + yarn over + knit 1 > marker <\\\n",
    "        knit 1 + yarn over + knit {part_3} + yarn over + knit 1 > marker <\\\n",
    "        knit 1 + yarn over + knit {turn_freq} > Turn'.fromat(part_1, part_2, part_3, turn_freq)\n",
    "    turns_sleave_left -= 1\n",
    "    for row in range(2, turns_sleave_left + 1):\n",
    "          print(\"Row {row}: knit {turn_freq} + increase 1 + knit 1 > marker < knit 1 + increase 1 + knit {part_3} + increase 1 + knit 1 > marker < knit 1 + increase 1 + knit {turn_freq} > Turn\".fromat(row = row, turn_freq = turn_freq, part_3 = part_3))\n",
    "          turns_sleave_left -= 1\n",
    "          part_3 += 2\n",
    "          \n",
    "\n",
    " neckopening(markers, total_turns, sleave_turns, turn_freq_stiches)         "
   ]
  }
 ],
 "metadata": {
  "kernelspec": {
   "display_name": "Python 3 (ipykernel)",
   "language": "python",
   "name": "python3"
  },
  "language_info": {
   "codemirror_mode": {
    "name": "ipython",
    "version": 3
   },
   "file_extension": ".py",
   "mimetype": "text/x-python",
   "name": "python",
   "nbconvert_exporter": "python",
   "pygments_lexer": "ipython3",
   "version": "3.9.7"
  }
 },
 "nbformat": 4,
 "nbformat_minor": 5
}
